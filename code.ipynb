{
 "cells": [
  {
   "cell_type": "code",
   "execution_count": null,
   "id": "55c9abda",
   "metadata": {
    "vscode": {
     "languageId": "plaintext"
    }
   },
   "outputs": [],
   "source": [
    "import cv2\n",
    "import numpy as np\n",
    "import matplotlib.pyplot as plt\n",
    "\n",
    "# Load an example image from a URL\n",
    "image_url = 'https://upload.wikimedia.org/wikipedia/commons/thumb/2/24/Woman_3.jpg/320px-Woman_3.jpg'\n",
    "image = cv2.imread(image_url)\n",
    "image = cv2.cvtColor(image, cv2.COLOR_BGR2RGB)\n",
    "\n",
    "# Define the sharpening kernel\n",
    "kernel = np.array([\n",
    "    [-1, -1, -1],\n",
    "    [-1,  9, -1],\n",
    "    [-1, -1, -1]\n",
    "])\n",
    "\n",
    "# Apply the kernel to the image\n",
    "sharpened_image = cv2.filter2D(image, -1, kernel)\n",
    "\n",
    "# Plot original and sharpened images\n",
    "plt.figure(figsize=(12, 6))\n",
    "plt.subplot(1, 2, 1)\n",
    "plt.imshow(image)\n",
    "plt.title(\"Original Image\")\n",
    "plt.axis('off')\n",
    "\n",
    "plt.subplot(1, 2, 2)\n",
    "plt.imshow(sharpened_image)\n",
    "plt.title(\"Sharpened Image\")\n",
    "plt.axis('off')\n",
    "\n",
    "plt.tight_layout()\n",
    "plt.show()\n",
    "\n"
   ]
  }
 ],
 "metadata": {
  "language_info": {
   "name": "python"
  }
 },
 "nbformat": 4,
 "nbformat_minor": 5
}
